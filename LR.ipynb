{
 "cells": [
  {
   "cell_type": "code",
   "execution_count": 1,
   "id": "c57d7b84",
   "metadata": {},
   "outputs": [
    {
     "name": "stdout",
     "output_type": "stream",
     "text": [
      "Predicted Price: 0.5081824762998557\n",
      "Predicted Tomorrow Label: Increase\n"
     ]
    },
    {
     "name": "stderr",
     "output_type": "stream",
     "text": [
      "C:\\Users\\Suhail\\AppData\\Local\\Temp\\ipykernel_6924\\688142070.py:13: UserWarning: Parsing dates in DD/MM/YYYY format when dayfirst=False (the default) was specified. This may lead to inconsistently parsed dates! Specify a format to ensure consistent parsing.\n",
      "  data['Date'] = pd.to_datetime(data['Date'])\n",
      "C:\\Users\\Suhail\\anaconda3\\lib\\site-packages\\sklearn\\preprocessing\\_encoders.py:828: FutureWarning: `sparse` was renamed to `sparse_output` in version 1.2 and will be removed in 1.4. `sparse_output` is ignored unless you leave `sparse` to its default value.\n",
      "  warnings.warn(\n"
     ]
    }
   ],
   "source": [
    "import pandas as pd\n",
    "from sklearn.model_selection import train_test_split\n",
    "from sklearn.linear_model import LinearRegression\n",
    "from sklearn.preprocessing import MinMaxScaler\n",
    "from sklearn.preprocessing import OneHotEncoder\n",
    "from datetime import datetime\n",
    "\n",
    "# Step 1: Preprocess the Data\n",
    "data = pd.read_csv('tesla1.csv')   # Replace \"your_dataset.csv\" with the actual filename\n",
    "# Perform any necessary preprocessing steps (e.g., date conversion, handling missing values)\n",
    "\n",
    "# Convert the date column to Unix timestamps\n",
    "data['Date'] = pd.to_datetime(data['Date'])\n",
    "data['Date'] = data['Date'].apply(lambda x: datetime.timestamp(x))\n",
    "\n",
    "# Step 2: Split the Data\n",
    "X = data[['Date', 'Close']]  # Features\n",
    "y = data['Label']  # Target variable\n",
    "\n",
    "# One-hot encode the categorical labels\n",
    "encoder = OneHotEncoder(sparse=False)\n",
    "y_encoded = encoder.fit_transform(y.values.reshape(-1, 1))\n",
    "\n",
    "X_train, X_test, y_train, y_test = train_test_split(X, y_encoded, test_size=0.2, random_state=42)\n",
    "\n",
    "# Step 3: Feature Selection (Date and Close columns are selected)\n",
    "\n",
    "# Step 4: Scale the Data (Optional)\n",
    "scaler = MinMaxScaler()\n",
    "X_train_scaled = scaler.fit_transform(X_train)\n",
    "X_test_scaled = scaler.transform(X_test)\n",
    "\n",
    "# Step 5: Train the Linear Regression Model\n",
    "linear_reg_model = LinearRegression()\n",
    "linear_reg_model.fit(X_train_scaled, y_train)\n",
    "\n",
    "# Step 6: Choose the Value to Predict\n",
    "new_data_point = pd.DataFrame({'Date': [datetime.timestamp(datetime.strptime('2023-07-10', '%Y-%m-%d'))],\n",
    "                               'Close': [25]})  # Replace '2023-07-10' and 25 with your desired values to predict\n",
    "\n",
    "# Step 7: Predict the Stock Market Price\n",
    "new_data_point_scaled = scaler.transform(new_data_point)\n",
    "predicted_price = linear_reg_model.predict(new_data_point_scaled)\n",
    "\n",
    "# Determine if it's increasing or decreasing\n",
    "tomorrow_data = pd.DataFrame({'Date': [datetime.timestamp(datetime.strptime('2023-07-11', '%Y-%m-%d'))],\n",
    "                              'Close': [30]})  # Replace '2023-07-11' and 30 with the values for the next day\n",
    "\n",
    "# Scale tomorrow's data\n",
    "tomorrow_data_scaled = scaler.transform(tomorrow_data)\n",
    "\n",
    "# Step 7: Predict the Stock Market Price for Tomorrow\n",
    "predicted_tomorrow_price = linear_reg_model.predict(tomorrow_data_scaled)[0][0]\n",
    "\n",
    "# Convert the predicted price to a label\n",
    "predicted_label = 'Increase' if predicted_tomorrow_price > 0 else 'Decrease'\n",
    "\n",
    "print(\"Predicted Price:\", predicted_price[0][0])\n",
    "print(\"Predicted Tomorrow Label:\", predicted_label)\n"
   ]
  },
  {
   "cell_type": "code",
   "execution_count": null,
   "id": "f3479b05",
   "metadata": {},
   "outputs": [],
   "source": []
  }
 ],
 "metadata": {
  "kernelspec": {
   "display_name": "Python 3 (ipykernel)",
   "language": "python",
   "name": "python3"
  },
  "language_info": {
   "codemirror_mode": {
    "name": "ipython",
    "version": 3
   },
   "file_extension": ".py",
   "mimetype": "text/x-python",
   "name": "python",
   "nbconvert_exporter": "python",
   "pygments_lexer": "ipython3",
   "version": "3.10.9"
  }
 },
 "nbformat": 4,
 "nbformat_minor": 5
}
