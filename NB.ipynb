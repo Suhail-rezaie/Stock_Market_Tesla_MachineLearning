{
 "cells": [
  {
   "cell_type": "code",
   "execution_count": 2,
   "id": "0589d1fd",
   "metadata": {},
   "outputs": [
    {
     "name": "stdout",
     "output_type": "stream",
     "text": [
      "Date          0\n",
      "Open          0\n",
      "High          0\n",
      "Low           0\n",
      "Close         0\n",
      "Adj Close     0\n",
      "Volume        0\n",
      "Label        10\n",
      "dtype: int64\n",
      "Accuracy: 0.4849\n",
      "Predicted Label: Increase\n"
     ]
    },
    {
     "name": "stderr",
     "output_type": "stream",
     "text": [
      "C:\\Users\\Suhail\\AppData\\Local\\Temp\\ipykernel_12320\\1084796627.py:12: UserWarning: Parsing dates in DD/MM/YYYY format when dayfirst=False (the default) was specified. This may lead to inconsistently parsed dates! Specify a format to ensure consistent parsing.\n",
      "  df['Date'] = pd.to_datetime(df['Date'])\n",
      "C:\\Users\\Suhail\\anaconda3\\lib\\site-packages\\sklearn\\base.py:420: UserWarning: X does not have valid feature names, but GaussianNB was fitted with feature names\n",
      "  warnings.warn(\n"
     ]
    }
   ],
   "source": [
    "import pandas as pd\n",
    "from sklearn.model_selection import train_test_split\n",
    "from sklearn.naive_bayes import GaussianNB\n",
    "from sklearn.preprocessing import LabelEncoder\n",
    "from sklearn.metrics import accuracy_score\n",
    "\n",
    "# Load the dataset from the CSV file\n",
    "#df = pd.read_csv('your_dataset.csv')\n",
    "df = pd.read_csv('tesla1.csv')\n",
    "\n",
    "# Preprocess the data\n",
    "df['Date'] = pd.to_datetime(df['Date'])\n",
    "#df['Label'] = df['Label'].map({'Decrease': 0, 'Increase': 1})\n",
    "\n",
    "# Check for missing values\n",
    "print(df.isnull().sum())\n",
    "\n",
    "# Drop rows with missing values\n",
    "df.dropna(inplace=True)\n",
    "\n",
    "# Split the dataset into input features and target variable\n",
    "X = df[['Open', 'High', 'Low', 'Close', 'Adj Close', 'Volume']]\n",
    "y = df['Label']\n",
    "\n",
    "# Encode the target variable (Label)\n",
    "label_encoder = LabelEncoder()\n",
    "y = label_encoder.fit_transform(y)\n",
    "\n",
    "# Split the dataset into training and testing subsets\n",
    "X_train, X_test, y_train, y_test = train_test_split(X, y, test_size=0.2, random_state=42)\n",
    "\n",
    "# Create a Naïve Bayesian classifier object\n",
    "classifier = GaussianNB()\n",
    "\n",
    "# Train the classifier\n",
    "classifier.fit(X_train, y_train)\n",
    "\n",
    "# Test the classifier on the test data\n",
    "y_pred = classifier.predict(X_test)\n",
    "\n",
    "# Calculate and print the accuracy score\n",
    "accuracy = accuracy_score(y_test, y_pred)\n",
    "print(f'Accuracy: {accuracy:.4f}')\n",
    "\n",
    "# Test the classifier on a sample data point\n",
    "sample_data = [[12, 16, 13, 16, 16, 5000000]]  # Replace with your own values\n",
    "predicted_label = classifier.predict(sample_data)\n",
    "\n",
    "# Reverse label encoding to get the original class labels\n",
    "predicted_class = label_encoder.inverse_transform(predicted_label)\n",
    "\n",
    "# Print the predicted class label\n",
    "print(f'Predicted Label: {predicted_class[0]}')\n"
   ]
  },
  {
   "cell_type": "code",
   "execution_count": null,
   "id": "704aeb25",
   "metadata": {},
   "outputs": [],
   "source": []
  },
  {
   "cell_type": "code",
   "execution_count": null,
   "id": "3c94e0d0",
   "metadata": {},
   "outputs": [],
   "source": []
  }
 ],
 "metadata": {
  "kernelspec": {
   "display_name": "Python 3 (ipykernel)",
   "language": "python",
   "name": "python3"
  },
  "language_info": {
   "codemirror_mode": {
    "name": "ipython",
    "version": 3
   },
   "file_extension": ".py",
   "mimetype": "text/x-python",
   "name": "python",
   "nbconvert_exporter": "python",
   "pygments_lexer": "ipython3",
   "version": "3.10.9"
  }
 },
 "nbformat": 4,
 "nbformat_minor": 5
}
