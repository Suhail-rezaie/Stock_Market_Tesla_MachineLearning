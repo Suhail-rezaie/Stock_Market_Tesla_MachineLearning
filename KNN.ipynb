{
 "cells": [
  {
   "cell_type": "code",
   "execution_count": null,
   "id": "26096a91",
   "metadata": {},
   "outputs": [],
   "source": [
    "import pandas as pd\n",
    "from sklearn.model_selection import train_test_split\n",
    "from sklearn.preprocessing import LabelEncoder\n",
    "from sklearn.neighbors import KNeighborsClassifier\n",
    "import numpy as np\n",
    "\n",
    "# Load the dataset from CSV file\n",
    "df = pd.read_csv('tesla1.csv')\n",
    "\n",
    "# Drop rows with missing values\n",
    "df.dropna(inplace=True)\n",
    "\n",
    "# Preprocess the data\n",
    "df['Date'] = pd.to_datetime(df['Date'], dayfirst=True)\n",
    "df['Label'] = df['Label'].map({'Increase': 1, 'Decrease': 0})\n",
    "le = LabelEncoder()\n",
    "df['Date_encoded'] = le.fit_transform(df['Date'])\n",
    "\n",
    "# Split the dataset into independent variables (X) and dependent variable (y)\n",
    "X = df[['Date_encoded']]\n",
    "y = df['Label']\n",
    "\n",
    "# Split the dataset into training and testing sets\n",
    "X_train, X_test, y_train, y_test = train_test_split(X, y, test_size=0.2, random_state=42)\n",
    "\n",
    "# Train the KNN model\n",
    "k = 3  # Number of neighbors to consider\n",
    "knn = KNeighborsClassifier(n_neighbors=k)\n",
    "knn.fit(X_train, y_train)\n",
    "\n",
    "# Get a date from the user to predict its label\n",
    "user_date = input(\"Enter a date (in dd/mm/yyyy format): \")\n",
    "user_date = pd.to_datetime(user_date, dayfirst=True)\n",
    "\n",
    "# Check if the user-provided date is present in the dataset\n",
    "if user_date in df['Date'].values:\n",
    "    user_date_encoded = le.transform([user_date])\n",
    "\n",
    "    # Reshape the user_date_encoded array to be 2D\n",
    "    user_date_encoded = np.array(user_date_encoded).reshape(1, -1)\n",
    "\n",
    "    # Predict the label for the user-provided date\n",
    "    prediction = knn.predict(user_date_encoded)\n",
    "    prediction_probability = knn.predict_proba(user_date_encoded)[0][1]  # Probability of increase\n",
    "\n",
    "    # Print the prediction result\n",
    "    if prediction == 1:\n",
    "        print(f\"There is a {prediction_probability:.2f} probability that the stock will increase.\")\n",
    "    else:\n",
    "        print(f\"There is a {1 - prediction_probability:.2f} probability that the stock will decrease.\")\n",
    "else:\n",
    "    print(\"The provided date is not present in the dataset.\")\n"
   ]
  },
  {
   "cell_type": "code",
   "execution_count": null,
   "id": "d886278d",
   "metadata": {},
   "outputs": [],
   "source": []
  }
 ],
 "metadata": {
  "kernelspec": {
   "display_name": "Python 3 (ipykernel)",
   "language": "python",
   "name": "python3"
  },
  "language_info": {
   "codemirror_mode": {
    "name": "ipython",
    "version": 3
   },
   "file_extension": ".py",
   "mimetype": "text/x-python",
   "name": "python",
   "nbconvert_exporter": "python",
   "pygments_lexer": "ipython3",
   "version": "3.10.9"
  }
 },
 "nbformat": 4,
 "nbformat_minor": 5
}
